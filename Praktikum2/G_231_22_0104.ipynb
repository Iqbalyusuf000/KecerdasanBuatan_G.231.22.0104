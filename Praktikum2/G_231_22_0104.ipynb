{
  "nbformat": 4,
  "nbformat_minor": 0,
  "metadata": {
    "colab": {
      "provenance": []
    },
    "kernelspec": {
      "name": "python3",
      "display_name": "Python 3"
    },
    "language_info": {
      "name": "python"
    }
  },
  "cells": [
    {
      "cell_type": "markdown",
      "source": [
        "**Loading Data**"
      ],
      "metadata": {
        "id": "fkWP31lr2CdU"
      }
    },
    {
      "cell_type": "code",
      "execution_count": null,
      "metadata": {
        "colab": {
          "base_uri": "https://localhost:8080/"
        },
        "id": "pkHIO23N1IUX",
        "outputId": "7add726c-4664-4210-e427-389c4299e6b6"
      },
      "outputs": [
        {
          "output_type": "stream",
          "name": "stdout",
          "text": [
            "[151.  75. 141. 206. 135.  97. 138.  63. 110. 310. 101.  69. 179. 185.\n",
            " 118. 171. 166. 144.  97. 168.  68.  49.  68. 245. 184. 202. 137.  85.\n",
            " 131. 283. 129.  59. 341.  87.  65. 102. 265. 276. 252.  90. 100.  55.\n",
            "  61.  92. 259.  53. 190. 142.  75. 142. 155. 225.  59. 104. 182. 128.\n",
            "  52.  37. 170. 170.  61. 144.  52. 128.  71. 163. 150.  97. 160. 178.\n",
            "  48. 270. 202. 111.  85.  42. 170. 200. 252. 113. 143.  51.  52. 210.\n",
            "  65. 141.  55. 134.  42. 111.  98. 164.  48.  96.  90. 162. 150. 279.\n",
            "  92.  83. 128. 102. 302. 198.  95.  53. 134. 144. 232.  81. 104.  59.\n",
            " 246. 297. 258. 229. 275. 281. 179. 200. 200. 173. 180.  84. 121. 161.\n",
            "  99. 109. 115. 268. 274. 158. 107.  83. 103. 272.  85. 280. 336. 281.\n",
            " 118. 317. 235.  60. 174. 259. 178. 128.  96. 126. 288.  88. 292.  71.\n",
            " 197. 186.  25.  84.  96. 195.  53. 217. 172. 131. 214.  59.  70. 220.\n",
            " 268. 152.  47.  74. 295. 101. 151. 127. 237. 225.  81. 151. 107.  64.\n",
            " 138. 185. 265. 101. 137. 143. 141.  79. 292. 178.  91. 116.  86. 122.\n",
            "  72. 129. 142.  90. 158.  39. 196. 222. 277.  99. 196. 202. 155.  77.\n",
            " 191.  70.  73.  49.  65. 263. 248. 296. 214. 185.  78.  93. 252. 150.\n",
            "  77. 208.  77. 108. 160.  53. 220. 154. 259.  90. 246. 124.  67.  72.\n",
            " 257. 262. 275. 177.  71.  47. 187. 125.  78.  51. 258. 215. 303. 243.\n",
            "  91. 150. 310. 153. 346.  63.  89.  50.  39. 103. 308. 116. 145.  74.\n",
            "  45. 115. 264.  87. 202. 127. 182. 241.  66.  94. 283.  64. 102. 200.\n",
            " 265.  94. 230. 181. 156. 233.  60. 219.  80.  68. 332. 248.  84. 200.\n",
            "  55.  85.  89.  31. 129.  83. 275.  65. 198. 236. 253. 124.  44. 172.\n",
            " 114. 142. 109. 180. 144. 163. 147.  97. 220. 190. 109. 191. 122. 230.\n",
            " 242. 248. 249. 192. 131. 237.  78. 135. 244. 199. 270. 164.  72.  96.\n",
            " 306.  91. 214.  95. 216. 263. 178. 113. 200. 139. 139.  88. 148.  88.\n",
            " 243.  71.  77. 109. 272.  60.  54. 221.  90. 311. 281. 182. 321.  58.\n",
            " 262. 206. 233. 242. 123. 167.  63. 197.  71. 168. 140. 217. 121. 235.\n",
            " 245.  40.  52. 104. 132.  88.  69. 219.  72. 201. 110.  51. 277.  63.\n",
            " 118.  69. 273. 258.  43. 198. 242. 232. 175.  93. 168. 275. 293. 281.\n",
            "  72. 140. 189. 181. 209. 136. 261. 113. 131. 174. 257.  55.  84.  42.\n",
            " 146. 212. 233.  91. 111. 152. 120.  67. 310.  94. 183.  66. 173.  72.\n",
            "  49.  64.  48. 178. 104. 132. 220.  57.]\n"
          ]
        }
      ],
      "source": [
        "from sklearn import datasets\n",
        "house_prices = datasets.load_diabetes()\n",
        "print(house_prices.target)"
      ]
    },
    {
      "cell_type": "code",
      "source": [
        "digits = datasets.load_digits()\n",
        "print(digits.images[4])"
      ],
      "metadata": {
        "colab": {
          "base_uri": "https://localhost:8080/"
        },
        "id": "WZtOn--61btt",
        "outputId": "990913f6-51b9-4069-c46c-3c184098cdfd"
      },
      "execution_count": null,
      "outputs": [
        {
          "output_type": "stream",
          "name": "stdout",
          "text": [
            "[[ 0.  0.  0.  1. 11.  0.  0.  0.]\n",
            " [ 0.  0.  0.  7.  8.  0.  0.  0.]\n",
            " [ 0.  0.  1. 13.  6.  2.  2.  0.]\n",
            " [ 0.  0.  7. 15.  0.  9.  8.  0.]\n",
            " [ 0.  5. 16. 10.  0. 16.  6.  0.]\n",
            " [ 0.  4. 15. 16. 13. 16.  1.  0.]\n",
            " [ 0.  0.  0.  3. 15. 10.  0.  0.]\n",
            " [ 0.  0.  0.  2. 16.  4.  0.  0.]]\n"
          ]
        }
      ]
    },
    {
      "cell_type": "markdown",
      "source": [
        "**Preprocessing Data**"
      ],
      "metadata": {
        "id": "vOtSLAOL2bow"
      }
    },
    {
      "cell_type": "code",
      "source": [
        "import numpy as np\n",
        "from sklearn import preprocessing\n",
        "\n",
        "input_data = np.array([[5.1, -2.9, 3.3],\n",
        "                      [-1.2, 7.8, -6.1],\n",
        "                      [3.9, 0.4, 2.1],\n",
        "                      [7.3, -9.9, -4.5]])"
      ],
      "metadata": {
        "id": "-MySjXp_2Mua"
      },
      "execution_count": null,
      "outputs": []
    },
    {
      "cell_type": "markdown",
      "source": [
        "**Binarization**"
      ],
      "metadata": {
        "id": "Tlunh0Az3Xzm"
      }
    },
    {
      "cell_type": "code",
      "source": [
        "data_binarized = preprocessing.Binarizer(threshold=2.1).transform(input_data)\n",
        "print(\"\\nBinarized data:\\n\", data_binarized)"
      ],
      "metadata": {
        "colab": {
          "base_uri": "https://localhost:8080/"
        },
        "id": "VwKM89P73FP4",
        "outputId": "01a6a7d9-76a4-4a45-90e4-147c3167c63c"
      },
      "execution_count": null,
      "outputs": [
        {
          "output_type": "stream",
          "name": "stdout",
          "text": [
            "\n",
            "Binarized data:\n",
            " [[1. 0. 1.]\n",
            " [0. 1. 0.]\n",
            " [1. 0. 0.]\n",
            " [1. 0. 0.]]\n"
          ]
        }
      ]
    },
    {
      "cell_type": "markdown",
      "source": [
        "**Mean Removal**"
      ],
      "metadata": {
        "id": "HK0h6w-hjbmA"
      }
    },
    {
      "cell_type": "code",
      "source": [
        "print('\\nBEFORE:')\n",
        "print('Mean =', input_data.mean(axis=0))\n",
        "print('Std deviation =', input_data.std(axis=0))"
      ],
      "metadata": {
        "id": "V3gUXGLs3346",
        "colab": {
          "base_uri": "https://localhost:8080/"
        },
        "outputId": "9381514f-9ca7-4cd1-f573-e695c79169b9"
      },
      "execution_count": null,
      "outputs": [
        {
          "output_type": "stream",
          "name": "stdout",
          "text": [
            "\n",
            "BEFORE:\n",
            "Mean = [ 3.775 -1.15  -1.3  ]\n",
            "Std deviation = [3.12039661 6.36651396 4.0620192 ]\n"
          ]
        }
      ]
    },
    {
      "cell_type": "code",
      "source": [
        "data_scaled = preprocessing.scale(input_data)\n",
        "print('\\nAFTER: ')\n",
        "print('MEan =', data_scaled.mean(axis=0))\n",
        "print('Std deviation=', data_scaled.std(axis=0))"
      ],
      "metadata": {
        "colab": {
          "base_uri": "https://localhost:8080/"
        },
        "id": "McBiUUa8jxYx",
        "outputId": "68fa0585-1561-4130-b677-9b71d68685e2"
      },
      "execution_count": null,
      "outputs": [
        {
          "output_type": "stream",
          "name": "stdout",
          "text": [
            "\n",
            "AFTER: \n",
            "MEan = [1.11022302e-16 0.00000000e+00 2.77555756e-17]\n",
            "Std deviation= [1. 1. 1.]\n"
          ]
        }
      ]
    },
    {
      "cell_type": "markdown",
      "source": [
        "**Scaling**"
      ],
      "metadata": {
        "id": "jzpLfzstkN0B"
      }
    },
    {
      "cell_type": "code",
      "source": [
        "data_scaler_minmax = preprocessing.MinMaxScaler(feature_range=(0,1))\n",
        "data_scaled_minmax = data_scaler_minmax.fit_transform(input_data)\n",
        "print('\\nMin max scaled data:\\n', data_scaled_minmax)"
      ],
      "metadata": {
        "colab": {
          "base_uri": "https://localhost:8080/"
        },
        "id": "NS8hwuA-kGSi",
        "outputId": "cd4bbfda-6219-4a14-9230-c04fc125279e"
      },
      "execution_count": null,
      "outputs": [
        {
          "output_type": "stream",
          "name": "stdout",
          "text": [
            "\n",
            "Min max scaled data:\n",
            " [[0.74117647 0.39548023 1.        ]\n",
            " [0.         1.         0.        ]\n",
            " [0.6        0.5819209  0.87234043]\n",
            " [1.         0.         0.17021277]]\n"
          ]
        }
      ]
    },
    {
      "cell_type": "markdown",
      "source": [
        "**Normalization**"
      ],
      "metadata": {
        "id": "_ojn1m0fk106"
      }
    },
    {
      "cell_type": "code",
      "source": [
        "data_normalized_l1 = preprocessing.normalize(input_data, norm='l1')\n",
        "data_normalized_l2 = preprocessing.normalize(input_data, norm='l2')\n",
        "print('\\nL1 normalized data:\\n', data_normalized_l1)\n",
        "print('\\nL2 normalized data:\\n', data_normalized_l2)"
      ],
      "metadata": {
        "colab": {
          "base_uri": "https://localhost:8080/"
        },
        "id": "5z8z9TYZkXVB",
        "outputId": "9e9a971f-1f83-4f8e-da96-46cdeaa703af"
      },
      "execution_count": null,
      "outputs": [
        {
          "output_type": "stream",
          "name": "stdout",
          "text": [
            "\n",
            "L1 normalized data:\n",
            " [[ 0.45132743 -0.25663717  0.2920354 ]\n",
            " [-0.0794702   0.51655629 -0.40397351]\n",
            " [ 0.609375    0.0625      0.328125  ]\n",
            " [ 0.33640553 -0.4562212  -0.20737327]]\n",
            "\n",
            "L2 normalized data:\n",
            " [[ 0.75765788 -0.43082507  0.49024922]\n",
            " [-0.12030718  0.78199664 -0.61156148]\n",
            " [ 0.87690281  0.08993875  0.47217844]\n",
            " [ 0.55734935 -0.75585734 -0.34357152]]\n"
          ]
        }
      ]
    }
  ]
}